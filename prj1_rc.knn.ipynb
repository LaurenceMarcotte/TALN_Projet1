{
  "cells": [
    {
      "cell_type": "markdown",
      "metadata": {
        "id": "KM9XVDmL2SoT"
      },
      "source": [
        "# k-NN k-Nearest Neighbours (k-Plus Proches Voisins)\n",
        "<hr>\n",
        "# Inspiré par : cours-IFT6390 - Automne 2021, sessions de laboratoir (matérial et code du cours sur les k-NN), démo 9 \"librairie Scikit-learn\""
      ]
    },
    {
      "cell_type": "code",
      "execution_count": 73,
      "metadata": {},
      "outputs": [],
      "source": [
        "import sklearn"
      ]
    },
    {
      "cell_type": "code",
      "execution_count": 74,
      "metadata": {},
      "outputs": [],
      "source": [
        "import numpy as np\n",
        "import matplotlib.pyplot as plt\n",
        "%matplotlib inline"
      ]
    },
    {
      "cell_type": "code",
      "execution_count": 75,
      "metadata": {},
      "outputs": [],
      "source": [
        "import sys\n",
        "import argparse\n",
        "import pandas as pd\n",
        "\n",
        "import gensim"
      ]
    },
    {
      "cell_type": "code",
      "execution_count": 76,
      "metadata": {},
      "outputs": [],
      "source": [
        "from sklearn.neighbors import KNeighborsClassifier"
      ]
    },
    {
      "cell_type": "code",
      "execution_count": 77,
      "metadata": {
        "id": "3dXscpTD2SoX"
      },
      "outputs": [],
      "source": [
        "from sklearn.linear_model import SGDClassifier\n",
        "from sklearn.model_selection import GridSearchCV, ParameterGrid\n",
        "from sklearn.metrics import classification_report\n",
        "from sklearn.pipeline import Pipeline\n",
        "from sklearn.feature_extraction.text import CountVectorizer, TfidfTransformer"
      ]
    },
    {
      "cell_type": "markdown",
      "metadata": {
        "id": "xwafc_T22Soe"
      },
      "source": [
        "# Outils"
      ]
    },
    {
      "cell_type": "code",
      "execution_count": 78,
      "metadata": {
        "colab": {
          "base_uri": "https://localhost:8080/",
          "height": 793
        },
        "id": "AnOUMRN8exUc",
        "outputId": "e02a2a8b-5b96-4e57-a42c-7eba28dbd6f6"
      },
      "outputs": [],
      "source": [
        "def make_parser():\n",
        "    parser = argparse.ArgumentParser()\n",
        "    parser.add_argument('--train_file', type=str)\n",
        "    parser.add_argument('--dev_file', type=str)\n",
        "    parser.add_argument('--dataset_name', type=str)\n",
        "    parser.add_argument('--representation', type=str)\n",
        "    return parser"
      ]
    },
    {
      "cell_type": "code",
      "execution_count": 79,
      "metadata": {},
      "outputs": [],
      "source": [
        "def read_data(file_name: str, dataset_name: str) -> pd.DataFrame:\n",
        "    \"\"\"\n",
        "    Lecture des fichiers de données\n",
        "    :param file_name: str, nom du fichier à lire\n",
        "    :param dataset_name: str, nom du dataset auquel appartient le fichier\n",
        "    :return: un dataframe pandas contenant une colonne \"sentence\" qui sont les exemples et une colonne \"label\" qui sont\n",
        "    les labels associés aux exemples\n",
        "    \"\"\"\n",
        "    # lecture fichier sous forme tsv\n",
        "    if dataset_name == \"cola\":\n",
        "        data = pd.read_csv(file_name, sep=\"\\t\", header=None)\n",
        "    else:\n",
        "        data = pd.read_csv(file_name, sep='\\t')\n",
        "\n",
        "    # standardization des données, i.e. création des colonnes 'sentence' et 'label' contenant les phrases exemples et\n",
        "    # les classes associées\n",
        "    if dataset_name == 'cola':\n",
        "        data.columns = [\"id\", \"label\", \"label2\", \"sentence\"]\n",
        "    elif dataset_name == 'qqp':\n",
        "        data['sentence'] = data.apply(\n",
        "            lambda row: row['question1'] + ' ' + row['question2'], axis=1)\n",
        "        data = data.rename(columns={'is_duplicate': 'label'})\n",
        "\n",
        "    return data"
      ]
    },
    {
      "cell_type": "code",
      "execution_count": 80,
      "metadata": {},
      "outputs": [],
      "source": [
        "def read_corpus(data):\n",
        "    for i, line in enumerate(data[\"sentence\"]):\n",
        "        tokens = gensim.utils.simple_preprocess(line)\n",
        "        yield gensim.models.doc2vec.TaggedDocument(tokens, [i])"
      ]
    },
    {
      "cell_type": "code",
      "execution_count": 81,
      "metadata": {},
      "outputs": [],
      "source": [
        "# HYPERPARAMETER à évaluer : vector_size\n",
        "def convert_to_matrix(corpus, data, vector_size=30):\n",
        "    model = gensim.models.doc2vec.Doc2Vec(\n",
        "        vector_size=vector_size, min_count=2, epochs=40)\n",
        "    model.build_vocab(corpus)\n",
        "    model.train(corpus, total_examples=model.corpus_count,\n",
        "                epochs=model.epochs)\n",
        "    sentence2vec = [model.infer_vector((data[\"sentence\"][i].split(\n",
        "        \" \"))) for i in range(0, len(data[\"sentence\"]))]\n",
        "    stv = np.array(sentence2vec)\n",
        "\n",
        "    return stv"
      ]
    },
    {
      "cell_type": "code",
      "execution_count": 82,
      "metadata": {},
      "outputs": [],
      "source": [
        "# HYPERPARAMETER à évaluer : k\n",
        "def train_model(X_train, y_train, X_dev, y_dev, k_nn = 10):\n",
        "    k_values = np.arange(1, k_nn, 2)\n",
        "    k_test = []\n",
        "    k_train = []\n",
        "    for k in k_values:\n",
        "        knn = KNeighborsClassifier(algorithm='auto', leaf_size=30, metric='minkowski',\n",
        "                            metric_params=None, n_jobs=None, n_neighbors=k, p=2,\n",
        "                            weights='uniform')\n",
        "        knn.fit(X_train, y_train)\n",
        "\n",
        "        train_pred = knn.predict(X_train)\n",
        "        k_train.append((train_pred == y_train).mean())\n",
        "        test_pred = knn.predict(X_dev)\n",
        "        k_test.append((test_pred == y_dev).mean())\n",
        "        acc = classification_report(y_dev, test_pred)\n",
        "        print(f'Accuracy on dev set for k-nn = {k}')\n",
        "        print(acc)\n",
        "\n",
        "    plt.xlabel('k\\'s value')\n",
        "    plt.ylabel('Performance')\n",
        "    plt.plot(k_values, k_test, label='test set',color='b')\n",
        "    plt.plot(k_values, k_train, label='train_set',color='r')\n",
        "    \n",
        "    return k_train, k_test"
      ]
    },
    {
      "cell_type": "code",
      "execution_count": 44,
      "metadata": {},
      "outputs": [],
      "source": [
        "# def test_model(model, X_test, y_test):\n",
        "#     # Évaluation du modèle sur les données de test\n",
        "\n",
        "#     print(\"Testing model\")\n",
        "#     y_pred = model.predict(X_test)\n",
        "\n",
        "#     acc = classification_report(y_test, y_pred)\n",
        "#     print(\"Accuracy on dev set\", acc)"
      ]
    },
    {
      "cell_type": "markdown",
      "metadata": {
        "id": "7AvlsziB_8YM"
      },
      "source": [
        "# Jupyter Notebook Main\n",
        "<hr>\n",
        "# Pour l'execution dans l'environnement Jupyter\n"
      ]
    },
    {
      "cell_type": "code",
      "execution_count": 83,
      "metadata": {},
      "outputs": [],
      "source": [
        "# Les arguments (paramètres) d'execution...\n",
        "# PARAMÈTRES D'EXECUTION\n",
        "# '--train_file', type=str)\n",
        "# '--dev_file', type=str)\n",
        "# '--dataset_name', type=str)\n",
        "## '--representation', type=str)\n",
        "\n",
        "# Paramètres (locales) pour SST, au lieu d'utiliser' make_parser(sys.argv[1:])  :\n",
        "strTrainFile = \"C:/UdeM-ws/ift6285_taln/project1/data/sst_train.tsv\"\n",
        "strDevFile = \"C:/UdeM-ws/ift6285_taln/project1/data/sst_dev.tsv\"\n",
        "strDataSet = \"sst\"\n",
        "\n",
        "train_file = strTrainFile\n",
        "dev_file = strDevFile\n",
        "dataset_name = strDataSet\n",
        "# representation = args.representation"
      ]
    },
    {
      "cell_type": "code",
      "execution_count": 84,
      "metadata": {},
      "outputs": [
        {
          "name": "stdout",
          "output_type": "stream",
          "text": [
            "Reading data, preprocessing...\n"
          ]
        }
      ],
      "source": [
        "# Input data\n",
        "print(\"Reading data, preprocessing...\")\n",
        "\n",
        "# lire les fichiers\n",
        "train_data = read_data(train_file, dataset_name)\n",
        "y_train = train_data[\"label\"].to_numpy()\n",
        "train_corpus = list(read_corpus(train_data))\n",
        "\n"
      ]
    },
    {
      "cell_type": "code",
      "execution_count": 85,
      "metadata": {},
      "outputs": [],
      "source": [
        "test_data = read_data(dev_file, dataset_name)\n",
        "y_test = test_data[\"label\"].to_numpy()\n",
        "\n",
        "test_corpus = list(read_corpus(test_data))"
      ]
    },
    {
      "cell_type": "code",
      "execution_count": 86,
      "metadata": {},
      "outputs": [],
      "source": [
        "def eval_diff_vector_size (vSize, k_limit = 10):\n",
        "    print(f'Evaluating with vector_size = {vSize}')\n",
        "    X_train = convert_to_matrix(train_corpus, train_data, vector_size=vSize)   # avec hyperparameter vector_size = 30\n",
        "    X_test = convert_to_matrix(test_corpus, test_data, vector_size=vSize)   # avec hyperparameter vector_size = 30\n",
        "\n",
        "    # Model training and prediction\n",
        "    knn_train, knn_test = train_model(X_train, y_train, X_test, y_test)\n",
        "    print(f'knn_parameter : {np.arange(1, k_limit, 2)}')\n",
        "    print(f'knn_train performance : {knn_train}, best : {1 + 2*np.argmax(np.array(knn_train))}')\n",
        "    print(f'knn_test performance : {knn_test}, best : {1 + 2*np.argmax(np.array(knn_test))}')"
      ]
    },
    {
      "cell_type": "code",
      "execution_count": 87,
      "metadata": {},
      "outputs": [
        {
          "name": "stdout",
          "output_type": "stream",
          "text": [
            "Evaluating with vector_size = 1\n",
            "Accuracy on dev set for k-nn = 1\n",
            "              precision    recall  f1-score   support\n",
            "\n",
            "           0       0.52      0.48      0.50       428\n",
            "           1       0.53      0.57      0.55       444\n",
            "\n",
            "    accuracy                           0.53       872\n",
            "   macro avg       0.53      0.53      0.53       872\n",
            "weighted avg       0.53      0.53      0.53       872\n",
            "\n",
            "Accuracy on dev set for k-nn = 3\n",
            "              precision    recall  f1-score   support\n",
            "\n",
            "           0       0.51      0.47      0.49       428\n",
            "           1       0.52      0.56      0.54       444\n",
            "\n",
            "    accuracy                           0.52       872\n",
            "   macro avg       0.52      0.52      0.51       872\n",
            "weighted avg       0.52      0.52      0.51       872\n",
            "\n",
            "Accuracy on dev set for k-nn = 5\n",
            "              precision    recall  f1-score   support\n",
            "\n",
            "           0       0.51      0.41      0.46       428\n",
            "           1       0.52      0.61      0.56       444\n",
            "\n",
            "    accuracy                           0.51       872\n",
            "   macro avg       0.51      0.51      0.51       872\n",
            "weighted avg       0.51      0.51      0.51       872\n",
            "\n",
            "Accuracy on dev set for k-nn = 7\n",
            "              precision    recall  f1-score   support\n",
            "\n",
            "           0       0.49      0.38      0.43       428\n",
            "           1       0.51      0.63      0.56       444\n",
            "\n",
            "    accuracy                           0.50       872\n",
            "   macro avg       0.50      0.50      0.50       872\n",
            "weighted avg       0.50      0.50      0.50       872\n",
            "\n",
            "Accuracy on dev set for k-nn = 9\n",
            "              precision    recall  f1-score   support\n",
            "\n",
            "           0       0.46      0.32      0.38       428\n",
            "           1       0.49      0.65      0.56       444\n",
            "\n",
            "    accuracy                           0.48       872\n",
            "   macro avg       0.48      0.48      0.47       872\n",
            "weighted avg       0.48      0.48      0.47       872\n",
            "\n",
            "knn_parameter : [1 3 5 7 9]\n",
            "knn_train performance : [0.9993615346924231, 0.7538938959746989, 0.6929724272075309, 0.6629497097210055, 0.6436918142808357], best : 1\n",
            "knn_test performance : [0.5263761467889908, 0.5160550458715596, 0.5149082568807339, 0.5045871559633027, 0.48394495412844035], best : 1\n"
          ]
        },
        {
          "data": {
            "image/png": "[encoded data removed]",
            "text/plain": [
              "<Figure size 432x288 with 1 Axes>"
            ]
          },
          "metadata": {
            "needs_background": "light"
          },
          "output_type": "display_data"
        }
      ],
      "source": [
        "# Évaluation avec hyperparameters :\n",
        "# .. vector_size = 1, 3, 5, 10, ... 15, 30\n",
        "# .. k-nn_limit : np.arange(1, k-nn_limit, 2)\n",
        "eval_diff_vector_size(1, 10)"
      ]
    },
    {
      "cell_type": "code",
      "execution_count": 88,
      "metadata": {},
      "outputs": [
        {
          "name": "stdout",
          "output_type": "stream",
          "text": [
            "Evaluating with vector_size = 3\n",
            "Accuracy on dev set for k-nn = 1\n",
            "              precision    recall  f1-score   support\n",
            "\n",
            "           0       0.50      0.45      0.47       428\n",
            "           1       0.52      0.57      0.54       444\n",
            "\n",
            "    accuracy                           0.51       872\n",
            "   macro avg       0.51      0.51      0.51       872\n",
            "weighted avg       0.51      0.51      0.51       872\n",
            "\n",
            "Accuracy on dev set for k-nn = 3\n",
            "              precision    recall  f1-score   support\n",
            "\n",
            "           0       0.51      0.43      0.46       428\n",
            "           1       0.52      0.59      0.55       444\n",
            "\n",
            "    accuracy                           0.51       872\n",
            "   macro avg       0.51      0.51      0.51       872\n",
            "weighted avg       0.51      0.51      0.51       872\n",
            "\n",
            "Accuracy on dev set for k-nn = 5\n",
            "              precision    recall  f1-score   support\n",
            "\n",
            "           0       0.50      0.42      0.45       428\n",
            "           1       0.51      0.59      0.55       444\n",
            "\n",
            "    accuracy                           0.51       872\n",
            "   macro avg       0.51      0.51      0.50       872\n",
            "weighted avg       0.51      0.51      0.50       872\n",
            "\n",
            "Accuracy on dev set for k-nn = 7\n",
            "              precision    recall  f1-score   support\n",
            "\n",
            "           0       0.48      0.40      0.43       428\n",
            "           1       0.50      0.58      0.54       444\n",
            "\n",
            "    accuracy                           0.49       872\n",
            "   macro avg       0.49      0.49      0.49       872\n",
            "weighted avg       0.49      0.49      0.49       872\n",
            "\n",
            "Accuracy on dev set for k-nn = 9\n",
            "              precision    recall  f1-score   support\n",
            "\n",
            "           0       0.49      0.41      0.45       428\n",
            "           1       0.51      0.59      0.55       444\n",
            "\n",
            "    accuracy                           0.50       872\n",
            "   macro avg       0.50      0.50      0.50       872\n",
            "weighted avg       0.50      0.50      0.50       872\n",
            "\n",
            "knn_parameter : [1 3 5 7 9]\n",
            "knn_train performance : [1.0, 0.7632778511930393, 0.706692007305231, 0.6816433800056423, 0.6671665503570952], best : 1\n",
            "knn_test performance : [0.5091743119266054, 0.5137614678899083, 0.5068807339449541, 0.4919724770642202, 0.5011467889908257], best : 3\n"
          ]
        },
        {
          "data": {
            "image/png": "[encoded data removed]",
            "text/plain": [
              "<Figure size 432x288 with 1 Axes>"
            ]
          },
          "metadata": {
            "needs_background": "light"
          },
          "output_type": "display_data"
        }
      ],
      "source": [
        "eval_diff_vector_size(3, 10)"
      ]
    },
    {
      "cell_type": "code",
      "execution_count": 89,
      "metadata": {},
      "outputs": [
        {
          "name": "stdout",
          "output_type": "stream",
          "text": [
            "Evaluating with vector_size = 5\n",
            "Accuracy on dev set for k-nn = 1\n",
            "              precision    recall  f1-score   support\n",
            "\n",
            "           0       0.46      0.39      0.42       428\n",
            "           1       0.49      0.56      0.52       444\n",
            "\n",
            "    accuracy                           0.48       872\n",
            "   macro avg       0.47      0.48      0.47       872\n",
            "weighted avg       0.48      0.48      0.47       872\n",
            "\n",
            "Accuracy on dev set for k-nn = 3\n",
            "              precision    recall  f1-score   support\n",
            "\n",
            "           0       0.48      0.39      0.43       428\n",
            "           1       0.50      0.60      0.55       444\n",
            "\n",
            "    accuracy                           0.50       872\n",
            "   macro avg       0.49      0.49      0.49       872\n",
            "weighted avg       0.49      0.50      0.49       872\n",
            "\n",
            "Accuracy on dev set for k-nn = 5\n",
            "              precision    recall  f1-score   support\n",
            "\n",
            "           0       0.51      0.38      0.44       428\n",
            "           1       0.52      0.65      0.58       444\n",
            "\n",
            "    accuracy                           0.52       872\n",
            "   macro avg       0.52      0.51      0.51       872\n",
            "weighted avg       0.52      0.52      0.51       872\n",
            "\n",
            "Accuracy on dev set for k-nn = 7\n",
            "              precision    recall  f1-score   support\n",
            "\n",
            "           0       0.51      0.37      0.43       428\n",
            "           1       0.52      0.66      0.58       444\n",
            "\n",
            "    accuracy                           0.52       872\n",
            "   macro avg       0.52      0.52      0.51       872\n",
            "weighted avg       0.52      0.52      0.51       872\n",
            "\n",
            "Accuracy on dev set for k-nn = 9\n",
            "              precision    recall  f1-score   support\n",
            "\n",
            "           0       0.50      0.36      0.42       428\n",
            "           1       0.51      0.66      0.58       444\n",
            "\n",
            "    accuracy                           0.51       872\n",
            "   macro avg       0.51      0.51      0.50       872\n",
            "weighted avg       0.51      0.51      0.50       872\n",
            "\n",
            "knn_parameter : [1 3 5 7 9]\n",
            "knn_train performance : [1.0, 0.7994773493296115, 0.7535523912752974, 0.7321118353650389, 0.7184813434497914], best : 1\n",
            "knn_test performance : [0.47706422018348627, 0.49655963302752293, 0.5172018348623854, 0.518348623853211, 0.5091743119266054], best : 7\n"
          ]
        },
        {
          "data": {
            "image/png": "[encoded data removed]",
            "text/plain": [
              "<Figure size 432x288 with 1 Axes>"
            ]
          },
          "metadata": {
            "needs_background": "light"
          },
          "output_type": "display_data"
        }
      ],
      "source": [
        "eval_diff_vector_size(5, 10)"
      ]
    },
    {
      "cell_type": "code",
      "execution_count": 90,
      "metadata": {},
      "outputs": [
        {
          "name": "stdout",
          "output_type": "stream",
          "text": [
            "Evaluating with vector_size = 10\n",
            "Accuracy on dev set for k-nn = 1\n",
            "              precision    recall  f1-score   support\n",
            "\n",
            "           0       0.46      0.44      0.45       428\n",
            "           1       0.48      0.50      0.49       444\n",
            "\n",
            "    accuracy                           0.47       872\n",
            "   macro avg       0.47      0.47      0.47       872\n",
            "weighted avg       0.47      0.47      0.47       872\n",
            "\n",
            "Accuracy on dev set for k-nn = 3\n",
            "              precision    recall  f1-score   support\n",
            "\n",
            "           0       0.48      0.46      0.47       428\n",
            "           1       0.50      0.51      0.50       444\n",
            "\n",
            "    accuracy                           0.49       872\n",
            "   macro avg       0.49      0.49      0.49       872\n",
            "weighted avg       0.49      0.49      0.49       872\n",
            "\n",
            "Accuracy on dev set for k-nn = 5\n",
            "              precision    recall  f1-score   support\n",
            "\n",
            "           0       0.47      0.46      0.47       428\n",
            "           1       0.49      0.50      0.50       444\n",
            "\n",
            "    accuracy                           0.48       872\n",
            "   macro avg       0.48      0.48      0.48       872\n",
            "weighted avg       0.48      0.48      0.48       872\n",
            "\n",
            "Accuracy on dev set for k-nn = 7\n",
            "              precision    recall  f1-score   support\n",
            "\n",
            "           0       0.47      0.45      0.46       428\n",
            "           1       0.49      0.51      0.50       444\n",
            "\n",
            "    accuracy                           0.48       872\n",
            "   macro avg       0.48      0.48      0.48       872\n",
            "weighted avg       0.48      0.48      0.48       872\n",
            "\n",
            "Accuracy on dev set for k-nn = 9\n",
            "              precision    recall  f1-score   support\n",
            "\n",
            "           0       0.46      0.44      0.45       428\n",
            "           1       0.48      0.50      0.49       444\n",
            "\n",
            "    accuracy                           0.47       872\n",
            "   macro avg       0.47      0.47      0.47       872\n",
            "weighted avg       0.47      0.47      0.47       872\n",
            "\n",
            "knn_parameter : [1 3 5 7 9]\n",
            "knn_train performance : [1.0, 0.87796403807035, 0.826886813464194, 0.7982449628056838, 0.7788682831222439], best : 1\n",
            "knn_test performance : [0.4736238532110092, 0.48623853211009177, 0.48394495412844035, 0.4782110091743119, 0.4724770642201835], best : 3\n"
          ]
        },
        {
          "data": {
            "image/png": "[encoded data removed]",
            "text/plain": [
              "<Figure size 432x288 with 1 Axes>"
            ]
          },
          "metadata": {
            "needs_background": "light"
          },
          "output_type": "display_data"
        }
      ],
      "source": [
        "eval_diff_vector_size(10, 10)"
      ]
    },
    {
      "cell_type": "code",
      "execution_count": 91,
      "metadata": {},
      "outputs": [
        {
          "name": "stdout",
          "output_type": "stream",
          "text": [
            "Evaluating with vector_size = 15\n",
            "Accuracy on dev set for k-nn = 1\n",
            "              precision    recall  f1-score   support\n",
            "\n",
            "           0       0.55      0.50      0.52       428\n",
            "           1       0.55      0.60      0.58       444\n",
            "\n",
            "    accuracy                           0.55       872\n",
            "   macro avg       0.55      0.55      0.55       872\n",
            "weighted avg       0.55      0.55      0.55       872\n",
            "\n",
            "Accuracy on dev set for k-nn = 3\n",
            "              precision    recall  f1-score   support\n",
            "\n",
            "           0       0.55      0.49      0.52       428\n",
            "           1       0.56      0.61      0.58       444\n",
            "\n",
            "    accuracy                           0.56       872\n",
            "   macro avg       0.55      0.55      0.55       872\n",
            "weighted avg       0.55      0.56      0.55       872\n",
            "\n",
            "Accuracy on dev set for k-nn = 5\n",
            "              precision    recall  f1-score   support\n",
            "\n",
            "           0       0.54      0.51      0.52       428\n",
            "           1       0.55      0.58      0.57       444\n",
            "\n",
            "    accuracy                           0.55       872\n",
            "   macro avg       0.55      0.55      0.54       872\n",
            "weighted avg       0.55      0.55      0.55       872\n",
            "\n",
            "Accuracy on dev set for k-nn = 7\n",
            "              precision    recall  f1-score   support\n",
            "\n",
            "           0       0.53      0.47      0.50       428\n",
            "           1       0.54      0.60      0.57       444\n",
            "\n",
            "    accuracy                           0.54       872\n",
            "   macro avg       0.53      0.53      0.53       872\n",
            "weighted avg       0.54      0.54      0.53       872\n",
            "\n",
            "Accuracy on dev set for k-nn = 9\n",
            "              precision    recall  f1-score   support\n",
            "\n",
            "           0       0.54      0.46      0.50       428\n",
            "           1       0.54      0.62      0.58       444\n",
            "\n",
            "    accuracy                           0.54       872\n",
            "   macro avg       0.54      0.54      0.54       872\n",
            "weighted avg       0.54      0.54      0.54       872\n",
            "\n",
            "knn_parameter : [1 3 5 7 9]\n",
            "knn_train performance : [1.0, 0.8996570104975575, 0.8553653357882077, 0.8252089860280034, 0.8064262275609141], best : 1\n",
            "knn_test performance : [0.5504587155963303, 0.555045871559633, 0.5458715596330275, 0.5355504587155964, 0.5424311926605505], best : 3\n"
          ]
        },
        {
          "data": {
            "image/png": "[encoded data removed]",
            "text/plain": [
              "<Figure size 432x288 with 1 Axes>"
            ]
          },
          "metadata": {
            "needs_background": "light"
          },
          "output_type": "display_data"
        }
      ],
      "source": [
        "eval_diff_vector_size(15, 10)"
      ]
    },
    {
      "cell_type": "code",
      "execution_count": 92,
      "metadata": {},
      "outputs": [
        {
          "name": "stdout",
          "output_type": "stream",
          "text": [
            "Evaluating with vector_size = 20\n",
            "Accuracy on dev set for k-nn = 1\n",
            "              precision    recall  f1-score   support\n",
            "\n",
            "           0       0.46      0.45      0.45       428\n",
            "           1       0.48      0.49      0.48       444\n",
            "\n",
            "    accuracy                           0.47       872\n",
            "   macro avg       0.47      0.47      0.47       872\n",
            "weighted avg       0.47      0.47      0.47       872\n",
            "\n",
            "Accuracy on dev set for k-nn = 3\n",
            "              precision    recall  f1-score   support\n",
            "\n",
            "           0       0.47      0.45      0.46       428\n",
            "           1       0.49      0.52      0.51       444\n",
            "\n",
            "    accuracy                           0.49       872\n",
            "   macro avg       0.48      0.48      0.48       872\n",
            "weighted avg       0.48      0.49      0.48       872\n",
            "\n",
            "Accuracy on dev set for k-nn = 5\n",
            "              precision    recall  f1-score   support\n",
            "\n",
            "           0       0.46      0.41      0.43       428\n",
            "           1       0.49      0.55      0.51       444\n",
            "\n",
            "    accuracy                           0.48       872\n",
            "   macro avg       0.48      0.48      0.47       872\n",
            "weighted avg       0.48      0.48      0.47       872\n",
            "\n",
            "Accuracy on dev set for k-nn = 7\n",
            "              precision    recall  f1-score   support\n",
            "\n",
            "           0       0.44      0.37      0.40       428\n",
            "           1       0.48      0.55      0.51       444\n",
            "\n",
            "    accuracy                           0.46       872\n",
            "   macro avg       0.46      0.46      0.46       872\n",
            "weighted avg       0.46      0.46      0.46       872\n",
            "\n",
            "Accuracy on dev set for k-nn = 9\n",
            "              precision    recall  f1-score   support\n",
            "\n",
            "           0       0.48      0.39      0.43       428\n",
            "           1       0.50      0.59      0.54       444\n",
            "\n",
            "    accuracy                           0.49       872\n",
            "   macro avg       0.49      0.49      0.49       872\n",
            "weighted avg       0.49      0.49      0.49       872\n",
            "\n",
            "knn_parameter : [1 3 5 7 9]\n",
            "knn_train performance : [1.0, 0.9043044440155014, 0.8588100788430415, 0.8324399768370726, 0.8108212445619088], best : 1\n",
            "knn_test performance : [0.4690366972477064, 0.48509174311926606, 0.47706422018348627, 0.46215596330275227, 0.49311926605504586], best : 9\n"
          ]
        },
        {
          "data": {
            "image/png": "[encoded data removed]",
            "text/plain": [
              "<Figure size 432x288 with 1 Axes>"
            ]
          },
          "metadata": {
            "needs_background": "light"
          },
          "output_type": "display_data"
        }
      ],
      "source": [
        "eval_diff_vector_size(20, 10)"
      ]
    },
    {
      "cell_type": "markdown",
      "metadata": {
        "id": "g2xbeZdm2So5"
      },
      "source": [
        "# Main\n",
        "<hr>"
      ]
    }
  ],
  "metadata": {
    "anaconda-cloud": {},
    "colab": {
      "collapsed_sections": [],
      "name": "prj1-rc.ipynb",
      "provenance": []
    },
    "kernelspec": {
      "display_name": "Python 3",
      "language": "python",
      "name": "python3"
    },
    "language_info": {
      "codemirror_mode": {
        "name": "ipython",
        "version": 3
      },
      "file_extension": ".py",
      "mimetype": "text/x-python",
      "name": "python",
      "nbconvert_exporter": "python",
      "pygments_lexer": "ipython3",
      "version": "3.8.12"
    },
    "nav_menu": {},
    "toc": {
      "navigate_menu": true,
      "number_sections": true,
      "sideBar": true,
      "threshold": 6,
      "toc_cell": false,
      "toc_section_display": "block",
      "toc_window_display": false
    }
  },
  "nbformat": 4,
  "nbformat_minor": 0
}
