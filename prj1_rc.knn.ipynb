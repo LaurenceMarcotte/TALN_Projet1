{
  "cells": [
    {
      "cell_type": "markdown",
      "metadata": {
        "id": "KM9XVDmL2SoT"
      },
      "source": [
        "# k-NN k-Nearest Neighbours (k-Plus Proches Voisins)\n",
        "<hr>\n",
        "# Inspiré par : cours-IFT6390 - Automne 2021, sessions de laboratoir (matérial et code du cours sur les k-NN), démo 9 \"librairie Scikit-learn\""
      ]
    },
    {
      "cell_type": "code",
      "execution_count": 1,
      "metadata": {},
      "outputs": [],
      "source": [
        "import sklearn"
      ]
    },
    {
      "cell_type": "code",
      "execution_count": 2,
      "metadata": {},
      "outputs": [],
      "source": [
        "import numpy as np\n",
        "import matplotlib.pyplot as plt\n",
        "%matplotlib inline"
      ]
    },
    {
      "cell_type": "code",
      "execution_count": 3,
      "metadata": {},
      "outputs": [],
      "source": [
        "import sys\n",
        "import argparse\n",
        "import pandas as pd\n",
        "\n",
        "import gensim"
      ]
    },
    {
      "cell_type": "code",
      "execution_count": 4,
      "metadata": {},
      "outputs": [],
      "source": [
        "from sklearn.neighbors import KNeighborsClassifier"
      ]
    },
    {
      "cell_type": "code",
      "execution_count": 25,
      "metadata": {
        "id": "3dXscpTD2SoX"
      },
      "outputs": [],
      "source": [
        "from sklearn.linear_model import SGDClassifier\n",
        "from sklearn.model_selection import GridSearchCV, ParameterGrid\n",
        "from sklearn.metrics import classification_report\n",
        "from sklearn.pipeline import Pipeline\n",
        "from sklearn.feature_extraction.text import CountVectorizer, TfidfTransformer"
      ]
    },
    {
      "cell_type": "markdown",
      "metadata": {
        "id": "xwafc_T22Soe"
      },
      "source": [
        "# Outils"
      ]
    },
    {
      "cell_type": "code",
      "execution_count": 5,
      "metadata": {
        "colab": {
          "base_uri": "https://localhost:8080/",
          "height": 793
        },
        "id": "AnOUMRN8exUc",
        "outputId": "e02a2a8b-5b96-4e57-a42c-7eba28dbd6f6"
      },
      "outputs": [],
      "source": [
        "def make_parser():\n",
        "    parser = argparse.ArgumentParser()\n",
        "    parser.add_argument('--train_file', type=str)\n",
        "    parser.add_argument('--dev_file', type=str)\n",
        "    parser.add_argument('--dataset_name', type=str)\n",
        "    parser.add_argument('--representation', type=str)\n",
        "    return parser"
      ]
    },
    {
      "cell_type": "code",
      "execution_count": 6,
      "metadata": {},
      "outputs": [],
      "source": [
        "def read_data(file_name: str, dataset_name: str) -> pd.DataFrame:\n",
        "    \"\"\"\n",
        "    Lecture des fichiers de données\n",
        "    :param file_name: str, nom du fichier à lire\n",
        "    :param dataset_name: str, nom du dataset auquel appartient le fichier\n",
        "    :return: un dataframe pandas contenant une colonne \"sentence\" qui sont les exemples et une colonne \"label\" qui sont\n",
        "    les labels associés aux exemples\n",
        "    \"\"\"\n",
        "    # lecture fichier sous forme tsv\n",
        "    if dataset_name == \"cola\":\n",
        "        data = pd.read_csv(file_name, sep=\"\\t\", header=None)\n",
        "    else:\n",
        "        data = pd.read_csv(file_name, sep='\\t')\n",
        "\n",
        "    # standardization des données, i.e. création des colonnes 'sentence' et 'label' contenant les phrases exemples et\n",
        "    # les classes associées\n",
        "    if dataset_name == 'cola':\n",
        "        data.columns = [\"id\", \"label\", \"label2\", \"sentence\"]\n",
        "    elif dataset_name == 'qqp':\n",
        "        data['sentence'] = data.apply(\n",
        "            lambda row: row['question1'] + ' ' + row['question2'], axis=1)\n",
        "        data = data.rename(columns={'is_duplicate': 'label'})\n",
        "\n",
        "    return data"
      ]
    },
    {
      "cell_type": "code",
      "execution_count": 7,
      "metadata": {},
      "outputs": [],
      "source": [
        "def read_corpus(data):\n",
        "    for i, line in enumerate(data[\"sentence\"]):\n",
        "        tokens = gensim.utils.simple_preprocess(line)\n",
        "        yield gensim.models.doc2vec.TaggedDocument(tokens, [i])"
      ]
    },
    {
      "cell_type": "code",
      "execution_count": 39,
      "metadata": {},
      "outputs": [],
      "source": [
        "def convert_to_matrix(corpus, data, vector_size=30):\n",
        "    model = gensim.models.doc2vec.Doc2Vec(\n",
        "        vector_size=vector_size, min_count=2, epochs=40)\n",
        "    model.build_vocab(corpus)\n",
        "    model.train(corpus, total_examples=model.corpus_count,\n",
        "                epochs=model.epochs)\n",
        "    sentence2vec = [model.infer_vector((data[\"sentence\"][i].split(\n",
        "        \" \"))) for i in range(0, len(data[\"sentence\"]))]\n",
        "    stv = np.array(sentence2vec)\n",
        "\n",
        "    return stv"
      ]
    },
    {
      "cell_type": "code",
      "execution_count": 55,
      "metadata": {},
      "outputs": [],
      "source": [
        "categories = [0, 1]\n",
        "\n",
        "def train_model(X_train, y_train, X_dev, y_dev, k_nn = 10):\n",
        "    k_values = np.arange(1, k_nn, 2)\n",
        "    k_test = []\n",
        "    k_train = []\n",
        "    for k in k_values:\n",
        "        knn = KNeighborsClassifier(algorithm='auto', leaf_size=30, metric='minkowski',\n",
        "                            metric_params=None, n_jobs=None, n_neighbors=k, p=2,\n",
        "                            weights='uniform')\n",
        "        knn.fit(X_train, y_train)\n",
        "\n",
        "        train_pred = knn.predict(X_train)\n",
        "        k_train.append((train_pred == y_train).mean())\n",
        "        test_pred = knn.predict(X_dev)\n",
        "        k_test.append((test_pred == y_dev).mean())\n",
        "\n",
        "    plt.xlabel('k\\'s value')\n",
        "    plt.ylabel('Performance')\n",
        "    plt.plot(k_values, k_test, label='test set',color='b')\n",
        "    plt.plot(k_values, k_train, label='train_set',color='r')\n",
        "    \n",
        "    return k_train, k_test"
      ]
    },
    {
      "cell_type": "code",
      "execution_count": 44,
      "metadata": {},
      "outputs": [],
      "source": [
        "def test_model(model, X_test, y_test):\n",
        "    # Évaluation du modèle sur les données de test\n",
        "\n",
        "    print(\"Testing model\")\n",
        "    y_pred = model.predict(X_test)\n",
        "\n",
        "    acc = classification_report(y_test, y_pred)\n",
        "    print(\"Accuracy on dev set\", acc)"
      ]
    },
    {
      "cell_type": "markdown",
      "metadata": {
        "id": "7AvlsziB_8YM"
      },
      "source": [
        "# Jupyter Notebook Main\n",
        "<hr>\n",
        "# Pour l'execution dans l'environnement Jupyter\n"
      ]
    },
    {
      "cell_type": "code",
      "execution_count": 34,
      "metadata": {},
      "outputs": [],
      "source": [
        "# Les arguments (paramètres) d'execution...\n",
        "# PARAMÈTRES D'EXECUTION\n",
        "# '--train_file', type=str)\n",
        "# '--dev_file', type=str)\n",
        "# '--dataset_name', type=str)\n",
        "## '--representation', type=str)\n",
        "\n",
        "# Paramètres (locales) pour SST, au lieu d'utiliser' make_parser(sys.argv[1:])  :\n",
        "strTrainFile = \"C:/UdeM-ws/ift6285_taln/project1/data/sst_train.tsv\"\n",
        "strDevFile = \"C:/UdeM-ws/ift6285_taln/project1/data/sst_dev.tsv\"\n",
        "strDataSet = \"sst\"\n",
        "\n",
        "train_file = strTrainFile\n",
        "dev_file = strDevFile\n",
        "dataset_name = strDataSet\n",
        "# representation = args.representation"
      ]
    },
    {
      "cell_type": "code",
      "execution_count": 40,
      "metadata": {},
      "outputs": [
        {
          "name": "stdout",
          "output_type": "stream",
          "text": [
            "Reading data, preprocessing...\n"
          ]
        }
      ],
      "source": [
        "# Input data\n",
        "print(\"Reading data, preprocessing...\")\n",
        "\n",
        "# lire les fichiers\n",
        "train_data = read_data(train_file, dataset_name)\n",
        "## représentations word2vec\n",
        "train_corpus = list(read_corpus(train_data))\n",
        "\n",
        "X_train = convert_to_matrix(train_corpus, train_data)\n",
        "y_train = train_data[\"label\"].to_numpy()"
      ]
    },
    {
      "cell_type": "code",
      "execution_count": 41,
      "metadata": {},
      "outputs": [],
      "source": [
        "test_data = read_data(dev_file, dataset_name)\n",
        "test_corpus = list(read_corpus(test_data))\n",
        "\n",
        "X_test = convert_to_matrix(test_corpus, test_data)\n",
        "y_test = test_data[\"label\"].to_numpy()"
      ]
    },
    {
      "cell_type": "code",
      "execution_count": 56,
      "metadata": {},
      "outputs": [
        {
          "data": {
            "image/png": "[encoded data removed]",
            "text/plain": [
              "<Figure size 432x288 with 1 Axes>"
            ]
          },
          "metadata": {
            "needs_background": "light"
          },
          "output_type": "display_data"
        }
      ],
      "source": [
        "# Model training and prediction\n",
        "knn_train, knn_test = train_model(X_train, y_train, X_test, y_test)"
      ]
    },
    {
      "cell_type": "code",
      "execution_count": 60,
      "metadata": {},
      "outputs": [
        {
          "name": "stdout",
          "output_type": "stream",
          "text": [
            "knn_parameter : [1 3 5 7 9]\n",
            "knn_train performance : [1.0, 0.9080461476785104, 0.8634575123609853, 0.8340584121516281, 0.8137908506436621]\n",
            "knn_test performance : [0.5401376146788991, 0.551605504587156, 0.5309633027522935, 0.5424311926605505, 0.5447247706422018]\n"
          ]
        }
      ],
      "source": [
        "print(f'knn_parameter : {np.arange(1, 10, 2)}')\n",
        "print(f'knn_train performance : {knn_train}')\n",
        "print(f'knn_test performance : {knn_test}')"
      ]
    },
    {
      "cell_type": "markdown",
      "metadata": {
        "id": "g2xbeZdm2So5"
      },
      "source": [
        "# Main\n",
        "<hr>"
      ]
    }
  ],
  "metadata": {
    "anaconda-cloud": {},
    "colab": {
      "collapsed_sections": [],
      "name": "prj1-rc.ipynb",
      "provenance": []
    },
    "kernelspec": {
      "display_name": "Python 3",
      "language": "python",
      "name": "python3"
    },
    "language_info": {
      "codemirror_mode": {
        "name": "ipython",
        "version": 3
      },
      "file_extension": ".py",
      "mimetype": "text/x-python",
      "name": "python",
      "nbconvert_exporter": "python",
      "pygments_lexer": "ipython3",
      "version": "3.8.12"
    },
    "nav_menu": {},
    "toc": {
      "navigate_menu": true,
      "number_sections": true,
      "sideBar": true,
      "threshold": 6,
      "toc_cell": false,
      "toc_section_display": "block",
      "toc_window_display": false
    }
  },
  "nbformat": 4,
  "nbformat_minor": 0
}
